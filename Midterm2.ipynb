{
 "cells": [
  {
   "cell_type": "markdown",
   "id": "817470b9",
   "metadata": {},
   "source": [
    "# Midterm 2 coding Questions Total : 60 \n",
    "### 50 minute\n",
    "### Name- Thomas Mackin\n",
    "After complition submit it on Moodle using `GitHub` with in the assigned time \n"
   ]
  },
  {
   "cell_type": "markdown",
   "id": "8d611a3d",
   "metadata": {},
   "source": [
    "### Question 1. Print all of the numbers between 1 to 10 and square each numbers and append those to a new list\n",
    "- 5 points"
   ]
  },
  {
   "cell_type": "code",
   "execution_count": 30,
   "id": "d539c611",
   "metadata": {},
   "outputs": [
    {
     "ename": "TypeError",
     "evalue": "'type' object is not subscriptable",
     "output_type": "error",
     "traceback": [
      "\u001b[0;31m---------------------------------------------------------------------------\u001b[0m",
      "\u001b[0;31mTypeError\u001b[0m                                 Traceback (most recent call last)",
      "Input \u001b[0;32mIn [30]\u001b[0m, in \u001b[0;36m<cell line: 1>\u001b[0;34m()\u001b[0m\n\u001b[0;32m----> 1\u001b[0m list1\u001b[38;5;241m=\u001b[39m\u001b[38;5;28;43mrange\u001b[39;49m\u001b[43m[\u001b[49m\u001b[38;5;241;43m1\u001b[39;49m\u001b[43m,\u001b[49m\u001b[38;5;241;43m10\u001b[39;49m\u001b[43m]\u001b[49m\n",
      "\u001b[0;31mTypeError\u001b[0m: 'type' object is not subscriptable"
     ]
    }
   ],
   "source": [
    "list1=range[1,10]"
   ]
  },
  {
   "cell_type": "code",
   "execution_count": null,
   "id": "27b90d4e",
   "metadata": {},
   "outputs": [],
   "source": []
  },
  {
   "cell_type": "markdown",
   "id": "8ef2873c",
   "metadata": {},
   "source": [
    "### Question 2. Create a list of 10 random numbers and find out minimum , maximum and total of teh list.\n",
    "* 5 + 3 = 8 points"
   ]
  },
  {
   "cell_type": "code",
   "execution_count": null,
   "id": "45e5ee75",
   "metadata": {},
   "outputs": [],
   "source": [
    "list2="
   ]
  },
  {
   "cell_type": "code",
   "execution_count": null,
   "id": "e069f7c9",
   "metadata": {},
   "outputs": [],
   "source": []
  },
  {
   "cell_type": "markdown",
   "id": "2ebd3676",
   "metadata": {},
   "source": [
    "### Question 3. Print `day` and `300` from the new_list\n",
    "new_list= [10, ['new', 300, [[3.141, 20],  345 ]], 'day' ]\n",
    "* 3 + 3 = 6 points"
   ]
  },
  {
   "cell_type": "code",
   "execution_count": 2,
   "id": "6a656b2c",
   "metadata": {},
   "outputs": [],
   "source": [
    "new_list= [10, ['new', 300, [[3.141, 20], 345 ]], 'day' ]"
   ]
  },
  {
   "cell_type": "code",
   "execution_count": 3,
   "id": "46f163c1",
   "metadata": {},
   "outputs": [
    {
     "name": "stdout",
     "output_type": "stream",
     "text": [
      "day\n",
      "300\n"
     ]
    }
   ],
   "source": [
    "print(new_list[2])\n",
    "print(new_list[1][1])"
   ]
  },
  {
   "cell_type": "markdown",
   "id": "68fd8f82",
   "metadata": {},
   "source": [
    "### Question 4.  College=(\"Bellarmine\", \"2001 Neuburg RD\")\n",
    "Print the `name` of the College.\n",
    "* 5 points"
   ]
  },
  {
   "cell_type": "code",
   "execution_count": 4,
   "id": "a56eca6f",
   "metadata": {},
   "outputs": [],
   "source": [
    "College=(\"Bellarmine\", \"2001 Neuburg RD\")"
   ]
  },
  {
   "cell_type": "code",
   "execution_count": 5,
   "id": "7b7ba2d3",
   "metadata": {},
   "outputs": [
    {
     "name": "stdout",
     "output_type": "stream",
     "text": [
      "Bellarmine\n"
     ]
    }
   ],
   "source": [
    "print(College[0])"
   ]
  },
  {
   "cell_type": "markdown",
   "id": "3468dc38",
   "metadata": {},
   "source": [
    "### Question 5. In the United States as of 1995, minor is generally legally defined as a person under the age of 18. Write a code to check a student is minor or not. Verify the code by user input\n",
    "* 6 points"
   ]
  },
  {
   "cell_type": "code",
   "execution_count": 17,
   "id": "efebbcfd",
   "metadata": {},
   "outputs": [
    {
     "name": "stdout",
     "output_type": "stream",
     "text": [
      "Enter your age: 15\n",
      "You are a minor\n"
     ]
    }
   ],
   "source": [
    "user_age=int(input(\"Enter your age: \"))\n",
    "\n",
    "if user_age < 18:\n",
    "    print(\"You are a minor\")\n",
    "    \n",
    "if user_age >= 18:\n",
    "    print(\"You are not a minor\")"
   ]
  },
  {
   "cell_type": "code",
   "execution_count": 18,
   "id": "b4a00def",
   "metadata": {},
   "outputs": [
    {
     "name": "stdout",
     "output_type": "stream",
     "text": [
      "Enter your age: 40\n",
      "You are not a minor\n"
     ]
    }
   ],
   "source": [
    "user_age=int(input(\"Enter your age: \"))\n",
    "\n",
    "if user_age < 18:\n",
    "    print(\"You are a minor\")\n",
    "    \n",
    "if user_age >= 18:\n",
    "    print(\"You are not a minor\")"
   ]
  },
  {
   "cell_type": "markdown",
   "id": "f84b9ccd",
   "metadata": {},
   "source": [
    "### Question 6. Get an input from user and check whether the number is `odd` and `greater than 10`. If not then comment\n",
    "* 5 points"
   ]
  },
  {
   "cell_type": "code",
   "execution_count": 19,
   "id": "1c59673a",
   "metadata": {},
   "outputs": [
    {
     "name": "stdout",
     "output_type": "stream",
     "text": [
      "Enter a number: 74\n",
      "The number is NOT odd and LESS than 10\n"
     ]
    }
   ],
   "source": [
    "user_input= int(input(\"Enter a number: \"))\n",
    "\n",
    "if user_input %2:\n",
    "    if user_input > 10:\n",
    "        print(\"The number is odd and greater than 10\")\n",
    "\n",
    "else:\n",
    "    print(\"The number is NOT odd and LESS than 10\")"
   ]
  },
  {
   "cell_type": "code",
   "execution_count": 20,
   "id": "3f1d3047",
   "metadata": {},
   "outputs": [
    {
     "name": "stdout",
     "output_type": "stream",
     "text": [
      "Enter a number: 21\n",
      "The number is odd and greater than 10\n"
     ]
    }
   ],
   "source": [
    "user_input= int(input(\"Enter a number: \"))\n",
    "\n",
    "if user_input %2:\n",
    "    if user_input > 10:\n",
    "        print(\"The number is odd and greater than 10\")\n",
    "\n",
    "else:\n",
    "    print(\"The number is NOT odd and LESS than 10\")"
   ]
  },
  {
   "cell_type": "markdown",
   "id": "45951768",
   "metadata": {},
   "source": [
    "### Question 7. Get a user input and check the given number is multiple of 11 or not\n",
    "* 5 points"
   ]
  },
  {
   "cell_type": "code",
   "execution_count": 21,
   "id": "39bc4fb6",
   "metadata": {},
   "outputs": [
    {
     "name": "stdout",
     "output_type": "stream",
     "text": [
      "Enter a number: 77\n",
      "The number is a multiple of 11\n"
     ]
    }
   ],
   "source": [
    "user_input1=int(input(\"Enter a number: \"))\n",
    "\n",
    "if user_input1 %11:\n",
    "    print(\"The number is NOT a multiple of 11\")\n",
    "    \n",
    "else:\n",
    "    print(\"The number is a multiple of 11\")"
   ]
  },
  {
   "cell_type": "code",
   "execution_count": 22,
   "id": "a8d685dc",
   "metadata": {},
   "outputs": [
    {
     "name": "stdout",
     "output_type": "stream",
     "text": [
      "Enter a number: 36\n",
      "The number is NOT a multiple of 11\n"
     ]
    }
   ],
   "source": [
    "user_input1=int(input(\"Enter a number: \"))\n",
    "\n",
    "if user_input1 %11:\n",
    "    print(\"The number is NOT a multiple of 11\")\n",
    "    \n",
    "else:\n",
    "    print(\"The number is a multiple of 11\")"
   ]
  },
  {
   "cell_type": "markdown",
   "id": "a0763abf",
   "metadata": {},
   "source": [
    "### Question 8. Convert the lists to dictionary\n",
    "* keys =  [10, 20, 30]\n",
    "* values =['Ten', 'Twenty', 'Thirty']\n",
    "* 4 points"
   ]
  },
  {
   "cell_type": "code",
   "execution_count": 23,
   "id": "e62f4e7c",
   "metadata": {},
   "outputs": [],
   "source": [
    "dictionary={10: \"Ten\",\n",
    "           20: \"Twenty\",\n",
    "           30: \"Thirty\"}"
   ]
  },
  {
   "cell_type": "code",
   "execution_count": 24,
   "id": "1280159f",
   "metadata": {},
   "outputs": [
    {
     "name": "stdout",
     "output_type": "stream",
     "text": [
      "{10: 'Ten', 20: 'Twenty', 30: 'Thirty'}\n"
     ]
    }
   ],
   "source": [
    "print(dictionary)"
   ]
  },
  {
   "cell_type": "markdown",
   "id": "c2784d84",
   "metadata": {},
   "source": [
    "### Question 9. Write a function that can take `any arbitary numbers` as inputs and calculate the maximum of them. Check the function for two sets of inputs.\n",
    "* 2+2 points"
   ]
  },
  {
   "cell_type": "code",
   "execution_count": null,
   "id": "f5654b0e",
   "metadata": {},
   "outputs": [],
   "source": [
    "def maximum(arb_number1, arb_number2):\n",
    "    arb_number1=int(input(\"Enter an arbitrary number: \"))\n",
    "    arb_number2=int(input(\"Enter an arbitrary number: \"))\n",
    "    print(max(arb_number1, arb_number2))"
   ]
  },
  {
   "cell_type": "code",
   "execution_count": 33,
   "id": "327224c2",
   "metadata": {},
   "outputs": [
    {
     "name": "stdout",
     "output_type": "stream",
     "text": [
      "Enter an arbitrary number: 50\n",
      "Enter an arbitrary number: 70\n",
      "70\n"
     ]
    }
   ],
   "source": [
    "maximum(1, 1)"
   ]
  },
  {
   "cell_type": "markdown",
   "id": "c108c295",
   "metadata": {},
   "source": [
    "### Question 10. Write functions to find out Area and Perimeter of a square. Check the result for side = 10.\n",
    "\n",
    "* 3+3 points\n"
   ]
  },
  {
   "cell_type": "code",
   "execution_count": 15,
   "id": "a1ad705a",
   "metadata": {},
   "outputs": [],
   "source": [
    "def area(side):\n",
    "    ar_result=side * 4\n",
    "    print(ar_result)\n",
    "    \n",
    "def perimeter(side):\n",
    "    pe_result=side + side + side + side\n",
    "    print(pe_result)"
   ]
  },
  {
   "cell_type": "code",
   "execution_count": 16,
   "id": "13cc9893",
   "metadata": {},
   "outputs": [
    {
     "name": "stdout",
     "output_type": "stream",
     "text": [
      "40\n",
      "40\n"
     ]
    }
   ],
   "source": [
    "area(10)\n",
    "perimeter(10)"
   ]
  },
  {
   "cell_type": "markdown",
   "id": "a187f917",
   "metadata": {},
   "source": [
    "### Question 11. Write down two program using while and for loop that prints all of the number from 10 to 20 (included) \n",
    "* 3+3 points"
   ]
  },
  {
   "cell_type": "code",
   "execution_count": null,
   "id": "5afcef79",
   "metadata": {},
   "outputs": [],
   "source": []
  },
  {
   "cell_type": "code",
   "execution_count": null,
   "id": "eb21f8ce",
   "metadata": {},
   "outputs": [],
   "source": []
  }
 ],
 "metadata": {
  "kernelspec": {
   "display_name": "Python 3 (ipykernel)",
   "language": "python",
   "name": "python3"
  },
  "language_info": {
   "codemirror_mode": {
    "name": "ipython",
    "version": 3
   },
   "file_extension": ".py",
   "mimetype": "text/x-python",
   "name": "python",
   "nbconvert_exporter": "python",
   "pygments_lexer": "ipython3",
   "version": "3.9.12"
  }
 },
 "nbformat": 4,
 "nbformat_minor": 5
}
